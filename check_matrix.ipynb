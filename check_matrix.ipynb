{
 "cells": [
  {
   "cell_type": "code",
   "execution_count": 1,
   "metadata": {},
   "outputs": [
    {
     "name": "stderr",
     "output_type": "stream",
     "text": [
      "c:\\Users\\90721\\anaconda3\\envs\\lzy\\lib\\site-packages\\gym\\spaces\\box.py:127: UserWarning: \u001b[33mWARN: Box bound precision lowered by casting to float32\u001b[0m\n",
      "  logger.warn(f\"Box bound precision lowered by casting to {self.dtype}\")\n"
     ]
    }
   ],
   "source": [
    "import torch\n",
    "import numpy as np\n",
    "from Desko import Koopman_Desko\n",
    "from three_tanks import three_tank_system as dreamer\n",
    "from replay_memory import ReplayMemory\n",
    "from torch.utils.data import Dataset, DataLoader, random_split\n",
    "import my_args\n",
    "env = dreamer()\n",
    "env = env.unwrapped\n",
    "\n",
    "\n",
    "args = my_args.args\n",
    "args['state_dim'] = env.observation_space.shape[0]\n",
    "args['act_dim'] = env.action_space.shape[0]\n",
    "A1 = torch.load(args['SAVE_A1'])\n",
    "B1 = torch.load(args['SAVE_B1'])\n",
    "C1 = torch.load(args['SAVE_C1'])\n",
    "\n",
    "from matplotlib import pyplot as plt\n",
    "import numpy as np\n",
    "import os\n",
    "os.environ['KMP_DUPLICATE_LIB_OK']='True'\n",
    "\n",
    "\n"
   ]
  },
  {
   "cell_type": "code",
   "execution_count": 2,
   "metadata": {},
   "outputs": [
    {
     "name": "stdout",
     "output_type": "stream",
     "text": [
      "restore!\n"
     ]
    }
   ],
   "source": [
    "model = Koopman_Desko(args)\n",
    "model.parameter_restore(args)\n",
    "# model.parameter_restore(args)\n",
    "# replay_memory = ReplayMemory(args,env, predict_evolution=True)\n",
    "# model.set_shift_and_scale(replay_memory)"
   ]
  },
  {
   "cell_type": "code",
   "execution_count": 3,
   "metadata": {},
   "outputs": [],
   "source": [
    "test = torch.load(args['SAVE_TEST'])\n",
    "train = torch.load(args['SAVE_TRAIN'])\n",
    "val = torch.load(args['SAVE_VAL'])\n",
    "# train = replay_memory.dataset_train\n",
    "\n",
    "\n",
    "\n",
    "# test_data = DataLoader(dataset = test, batch_size = 1, shuffle = True, drop_last = True)"
   ]
  },
  {
   "cell_type": "code",
   "execution_count": 4,
   "metadata": {},
   "outputs": [
    {
     "name": "stdout",
     "output_type": "stream",
     "text": [
      "0.09860649206332947\n",
      "0.9711392904363109\n",
      "-0.015293112\n",
      "1.0028466\n",
      "0.00040528068\n",
      "1.000113\n"
     ]
    }
   ],
   "source": [
    "#测试集与训练集差别多大？\n",
    "\n",
    "print(np.mean(test.x_choice))\n",
    "print(np.std(test.x_choice))\n",
    "print(np.mean(test.y_choice))\n",
    "print(np.std(test.y_choice))\n",
    "\n",
    "\n",
    "print(np.mean(train.dataset.x_choice))\n",
    "print(np.std(train.dataset.x_choice))"
   ]
  },
  {
   "cell_type": "code",
   "execution_count": 5,
   "metadata": {},
   "outputs": [
    {
     "name": "stdout",
     "output_type": "stream",
     "text": [
      "torch.Size([1, 16, 9])\n",
      "tensor(0.0044, grad_fn=<MseLossBackward0>)\n"
     ]
    },
    {
     "data": {
      "image/png": "[encoded data removed]",
      "text/plain": [
       "<Figure size 640x480 with 1 Axes>"
      ]
     },
     "metadata": {},
     "output_type": "display_data"
    }
   ],
   "source": [
    "#查看片段\n",
    "data_use = test\n",
    "train_data = DataLoader(dataset = data_use, batch_size = 1, shuffle = True, drop_last = True)\n",
    "\n",
    "state_start =0\n",
    "\n",
    "for x,u in train_data:\n",
    "    x = x[:,state_start:state_start+args['pred_horizon']]\n",
    "    u = u[:,state_start:state_start+args['pred_horizon']]\n",
    "    print(x.shape)\n",
    "    x_pred_list,x_real_list,x_sum_list = model.pred_forward_test(x.float(),u.float(),data_use.test,args)\n",
    "    break\n",
    "\n",
    "x_pred_list = np.array(x_pred_list)\n",
    "x_real_list = np.array(x_real_list)\n",
    "x_sum_list = np.array(x_sum_list)\n",
    "time_ = np.arange(x_pred_list[:,0,:1].shape[0])\n",
    "# print(x_pred_list.shape)\n",
    "\n",
    "num_state = 0\n",
    "num_time = 0\n",
    "\n",
    "plt.plot(time_,x_pred_list[:,num_time,num_state])\n",
    "plt.plot(time_,x_real_list[:,num_time,num_state])\n",
    "plt.show()\n"
   ]
  },
  {
   "cell_type": "code",
   "execution_count": 6,
   "metadata": {},
   "outputs": [],
   "source": [
    "\n",
    "# x_pred_list.shape"
   ]
  },
  {
   "cell_type": "code",
   "execution_count": 7,
   "metadata": {},
   "outputs": [
    {
     "data": {
      "text/plain": [
       "(15, 1, 9)"
      ]
     },
     "execution_count": 7,
     "metadata": {},
     "output_type": "execute_result"
    }
   ],
   "source": [
    "x_pred_list.shape"
   ]
  },
  {
   "cell_type": "code",
   "execution_count": 8,
   "metadata": {},
   "outputs": [
    {
     "data": {
      "text/plain": [
       "tensor([[ 2.6686e-01, -9.2751e-02, -7.5870e-02,  2.3983e-01, -1.1626e-01,\n",
       "         -6.8596e-02,  2.1460e-01,  2.9764e-01, -7.3412e-02],\n",
       "        [-1.6027e-01,  3.9521e-01, -6.3630e-02, -1.5482e-01,  3.7818e-01,\n",
       "         -1.0879e-02,  8.2708e-02,  1.1421e-01, -3.7228e-02],\n",
       "        [-5.6044e-02, -4.6594e-02,  3.2831e-01, -4.6967e-02, -2.6927e-02,\n",
       "          3.0037e-01, -4.0837e-04, -2.6777e-02,  2.5787e-01],\n",
       "        [ 2.4783e-01, -1.4329e-01, -2.7537e-02,  2.4225e-01, -1.3802e-01,\n",
       "         -2.9712e-02,  2.0733e-01,  7.7983e-02, -2.6992e-02],\n",
       "        [-1.4163e-01,  4.1558e-01,  3.1896e-02, -1.5289e-01,  3.3541e-01,\n",
       "         -4.3505e-02, -6.9479e-02,  1.4464e-01,  2.0006e-02],\n",
       "        [-2.4938e-02, -1.2167e-02,  2.4774e-01, -5.2009e-02,  2.0963e-02,\n",
       "          3.2011e-01,  4.5853e-03,  7.3213e-02,  2.5868e-01],\n",
       "        [ 1.8531e-01,  4.6960e-02, -2.9917e-03,  1.8664e-01, -6.3316e-03,\n",
       "         -9.9347e-03,  5.1897e-01, -2.2005e-01, -1.6386e-02],\n",
       "        [ 1.4410e-01,  8.6612e-02,  1.8241e-02,  1.3675e-01,  1.2126e-01,\n",
       "          1.9436e-02, -1.4961e-01,  7.7862e-01,  1.2031e-02],\n",
       "        [-3.9561e-02, -1.8538e-02,  3.1461e-01, -4.3411e-02, -7.1859e-02,\n",
       "          2.8953e-01,  1.7746e-02,  7.9378e-03,  3.5902e-01],\n",
       "        [ 1.5272e-02,  2.3284e-02, -3.4993e-02, -8.7477e-03,  4.6267e-02,\n",
       "          7.4778e-02,  2.1784e-02, -3.8510e-02,  6.7643e-02],\n",
       "        [ 5.7851e-01, -7.7779e-02, -2.7237e-01,  2.7542e-01, -8.8788e-02,\n",
       "         -1.7733e-01,  2.9148e-01,  8.0110e-02, -2.7775e-01],\n",
       "        [-2.0689e-01,  6.9521e-01,  3.5929e-02, -1.9130e-01,  3.5673e-01,\n",
       "          6.6048e-02, -1.5608e-01,  3.0386e-01,  3.5636e-02],\n",
       "        [-9.4886e-02, -4.5868e-02,  6.9557e-01, -8.8430e-02,  1.2837e-02,\n",
       "          3.6022e-01,  8.0696e-04, -4.5168e-02,  2.3864e-01],\n",
       "        [ 1.5884e-01, -8.7129e-02, -1.5265e-01,  5.9405e-01, -3.8931e-02,\n",
       "         -1.2133e-01,  1.9729e-01, -4.8806e-03, -1.1124e-01],\n",
       "        [-1.4865e-01,  2.9156e-01,  1.0436e-01, -1.1135e-01,  7.5883e-01,\n",
       "          1.4416e-02, -9.2788e-02,  1.8999e-01,  4.3185e-02],\n",
       "        [-7.8982e-02,  4.3534e-03,  3.6998e-01, -1.5349e-01, -4.9932e-02,\n",
       "          6.9964e-01, -1.1006e-01, -1.1202e-01,  4.0526e-01],\n",
       "        [ 1.8290e-01, -6.9492e-02, -4.6943e-02,  1.9572e-01, -9.0210e-02,\n",
       "         -8.7839e-02,  6.7550e-01, -9.0687e-02, -4.0579e-02],\n",
       "        [-3.2066e-02,  1.8864e-01,  1.7438e-02, -2.4420e-02,  2.0608e-01,\n",
       "         -2.5303e-03, -1.5888e-01,  9.2253e-01,  4.7908e-03],\n",
       "        [-7.9199e-02,  1.3019e-02,  1.9197e-01, -9.1168e-02, -6.9722e-04,\n",
       "          2.2168e-01, -2.8137e-02, -1.9743e-02,  6.8384e-01]],\n",
       "       requires_grad=True)"
      ]
     },
     "execution_count": 8,
     "metadata": {},
     "output_type": "execute_result"
    }
   ],
   "source": [
    "torch.load(args['SAVE_C1'])"
   ]
  },
  {
   "cell_type": "code",
   "execution_count": 2,
   "metadata": {},
   "outputs": [
    {
     "ename": "NameError",
     "evalue": "name 'torch' is not defined",
     "output_type": "error",
     "traceback": [
      "\u001b[1;31m---------------------------------------------------------------------------\u001b[0m",
      "\u001b[1;31mNameError\u001b[0m                                 Traceback (most recent call last)",
      "Cell \u001b[1;32mIn[2], line 1\u001b[0m\n\u001b[1;32m----> 1\u001b[0m A  \u001b[39m=\u001b[39m torch\u001b[39m.\u001b[39mload(\u001b[39mr\u001b[39m\u001b[39m'\u001b[39m\u001b[39mC:\u001b[39m\u001b[39m\\\u001b[39m\u001b[39mUsers\u001b[39m\u001b[39m\\\u001b[39m\u001b[39m90721\u001b[39m\u001b[39m\\\u001b[39m\u001b[39mDesktop\u001b[39m\u001b[39m\\\u001b[39m\u001b[39mDesko_lzy\u001b[39m\u001b[39m\\\u001b[39m\u001b[39mDesko_pytorch\u001b[39m\u001b[39m\\\u001b[39m\u001b[39msave_model\u001b[39m\u001b[39m'\u001b[39m)\n",
      "\u001b[1;31mNameError\u001b[0m: name 'torch' is not defined"
     ]
    }
   ],
   "source": []
  }
 ],
 "metadata": {
  "kernelspec": {
   "display_name": "lzy",
   "language": "python",
   "name": "python3"
  },
  "language_info": {
   "codemirror_mode": {
    "name": "ipython",
    "version": 3
   },
   "file_extension": ".py",
   "mimetype": "text/x-python",
   "name": "python",
   "nbconvert_exporter": "python",
   "pygments_lexer": "ipython3",
   "version": "3.8.17"
  },
  "orig_nbformat": 4
 },
 "nbformat": 4,
 "nbformat_minor": 2
}
